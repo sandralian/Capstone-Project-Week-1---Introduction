{
 "cells": [
  {
   "cell_type": "markdown",
   "metadata": {},
   "source": [
    "## <center> Crime Rate & Venues Data Analysis of Montreal </center>\n"
   ]
  },
  {
   "cell_type": "markdown",
   "metadata": {},
   "source": [
    "### <center>Sandra Lian</center> <center>Feburary 17, 2021</center>"
   ]
  },
  {
   "cell_type": "markdown",
   "metadata": {},
   "source": [
    "### Introduction"
   ]
  },
  {
   "cell_type": "markdown",
   "metadata": {},
   "source": [
    "Montreal is the second most populous city in Canada, with close to two million residents in the urban agglomeration. It is often considered as \"Canada's Cultural Capital\", and remains as an important centre of commerce, technology, education, art, culture and world affairs. The city has world-class universities, a lively cultural scene, a dynamic job market and the cost of living there is relatively low. As a result, it is often ranked the best city to be a university student in the world, and has become a popular destination for international students. According to Stats Can, the city is home to approximately 36,000 international university students. \n",
    "\n",
    "New to a foreign environment, it is important for international students to find suitable accommodations so they can focus on their  academic pursuits. Although some students choose to live on campus, it is common for others to find homes in other parts of the city. This analysis aims to help international students to find the best accommodations that fit their needs. \n",
    "\n",
    "There are two main criteria in evaluating the suitable accommodation in neighbourhoods. First, the neighbourhoods can provide good amenities and lively social scenes, such as restaurants, cafes, gyms, libraries and so on. Second, the communities should offer a safe living environment with few reported crimes. As part of this analysis, we will create a map where the reported crime rate is placed on Montreal and each community is clustered based on the venue density."
   ]
  },
  {
   "cell_type": "markdown",
   "metadata": {},
   "source": [
    "### Data Description"
   ]
  },
  {
   "cell_type": "markdown",
   "metadata": {},
   "source": [
    "#### Data Collection"
   ]
  },
  {
   "cell_type": "markdown",
   "metadata": {},
   "source": [
    "* \"Data on the Limit of Police District Station Sectors\" from the City of Montreal website: This is a .json file which has the coordinates of Montreal based on the locations of its Police Department Quarters (PDQs). There are 32 Police Department Quarters (PDQs) across the city of Montreal and they provide a complete representation of the city coverage.\n",
    "\n",
    "\n",
    "* \"Montreal Crimes Data\" from the City of Montreal website: This .csv file has the recorded crimes in Montreal since the year of 2015. The crimes data is listed by each Police Department Quarters (PDQs), and has the following attributes: type of crimes, the number of crimes, the times when specific crimes are committed and the coordinates of the PDQs where the crimes were committed. During the data cleaning process, I found there are some missing values in the recent years. To ensure the completeness of data and relevant presentation of the crime rates, I decided to use the data from the year of 2019. With the combined info from \"Data on the Limit of Police District Station Sectors\" and \"Montreal Crimes Data\", I created a choropleth map of crime rates in Montreal.\n",
    "\n",
    "\n",
    "* Foursquare API is used to get the most common venues of Montreal. For example, Foursquare data helps to determine the quantity and type of venues across different locations in the city of Montreal. This data is essential in segmenting and clustering the different neighbourhoods within the city."
   ]
  },
  {
   "cell_type": "markdown",
   "metadata": {},
   "source": [
    "#### Data Preparation"
   ]
  },
  {
   "cell_type": "markdown",
   "metadata": {},
   "source": [
    "GitHub repository is used in performing and sharing the overall analysis. We will perform rigorous data cleaning and exploration processes to better understand the data obtained. The master dataframe will be created to include all major components such as Neighbourhood (PDQs), Latitude and Longitude information of each neighbourhood, and the Total Number of Crimes in 2019.\n",
    "\n",
    "\n",
    "As an important part of the data exploration process, we will create multiple visuals to demonstrate the relationship among different sets of data. Some of the main tools to be used are bar-charts and choropleth maps."
   ]
  }
 ],
 "metadata": {
  "kernelspec": {
   "display_name": "Python 3",
   "language": "python",
   "name": "python3"
  },
  "language_info": {
   "codemirror_mode": {
    "name": "ipython",
    "version": 3
   },
   "file_extension": ".py",
   "mimetype": "text/x-python",
   "name": "python",
   "nbconvert_exporter": "python",
   "pygments_lexer": "ipython3",
   "version": "3.8.5"
  }
 },
 "nbformat": 4,
 "nbformat_minor": 4
}
